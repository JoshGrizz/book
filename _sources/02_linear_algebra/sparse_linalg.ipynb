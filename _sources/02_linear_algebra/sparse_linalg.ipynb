{
 "cells": [
  {
   "cell_type": "markdown",
   "metadata": {},
   "source": [
    "# Sparse Linear Algebra\n",
    "\n",
    "So far, we have seen how sparse matrices and linear operators can be used to speed up basic matrix-vector and matrix-matrix operations, and decrease the memory footprint of the representation of a linear map.\n",
    "\n",
    "Just as there are special data types for sparse and structured matrices, there are specialized linear algebra routines which allow you to take advantage of sparsity and fast matrix-vector products.\n",
    "\n",
    "Routines for sparse linear algebra are found in `scipy.sparse.linalg`, which we'll import as `sla`"
   ]
  },
  {
   "cell_type": "code",
   "execution_count": 5,
   "metadata": {},
   "outputs": [
    {
     "name": "stdout",
     "output_type": "stream",
     "text": [
      "Populating the interactive namespace from numpy and matplotlib\n"
     ]
    }
   ],
   "source": [
    "%pylab inline\n",
    "import scipy.sparse as sparse\n",
    "import scipy.sparse.linalg as sla"
   ]
  },
  {
   "cell_type": "markdown",
   "metadata": {},
   "source": [
    "## Sparse Direct Methods\n",
    "\n",
    "This typically refers to producing a factorization of a sparse matrix for use in solving linear systems.\n",
    "\n",
    "The thing to keep in mind is that many factorizations will generally be dense, even if the original matrix is sparse.  E.g. eigenvalue decompositions, QR decomposition, SVD, etc.  This means that if we compute a factorization, we are going to lose all the advantages we had from sparsity.  \n",
    "\n",
    "What we really want is a factorization where if `A` is sparse, the terms in the factorization are also sparse.  The factorization where this is easiest to achieve is the LU decomposition.  In general, the `L` and `U` terms will be more dense than `A`, and sometimes much more dense.  However, we can seek a permuted version of the matrix `A` which will minimize the amount of \"fill-in\" which occurs.  This is often done using \"nested disection\" algorithm, which is outside the scope of this course.  If you ever need to do this explicitly, the [METIS package](http://glaros.dtc.umn.edu/gkhome/metis/metis/overview) is commonly used.\n",
    "\n",
    "We'll just use the function [`sla.splu`](https://docs.scipy.org/doc/scipy/reference/generated/scipy.sparse.linalg.splu.html#scipy.sparse.linalg.splu) (SParse LU) at a high level, which produces a factorization object that can be used to solve linear systems."
   ]
  },
  {
   "cell_type": "code",
   "execution_count": 7,
   "metadata": {},
   "outputs": [
    {
     "data": {
      "image/png": "[encoded data removed]",
      "text/plain": [
       "<Figure size 432x288 with 1 Axes>"
      ]
     },
     "metadata": {
      "needs_background": "light"
     },
     "output_type": "display_data"
    }
   ],
   "source": [
    "n = 100\n",
    "A = sparse.random(n, n, 0.01) + sparse.eye(n)\n",
    "plt.spy(A)\n",
    "plt.show()"
   ]
  },
  {
   "cell_type": "code",
   "execution_count": 12,
   "metadata": {},
   "outputs": [
    {
     "data": {
      "text/plain": [
       "<SuperLU at 0x7f93396c1a50>"
      ]
     },
     "execution_count": 12,
     "metadata": {},
     "output_type": "execute_result"
    }
   ],
   "source": [
    "A = A.tocsc() # need to convert to CSC form first\n",
    "LU = sla.splu(A)\n",
    "LU"
   ]
  },
  {
   "cell_type": "markdown",
   "metadata": {},
   "source": [
    "The resulting object stores the factors necessary to compute `A = PLUQ` (`P` permutes rows, and `Q` permutes columns).  It is computed using the [SuperLU library](https://portal.nersc.gov/project/sparse/superlu/).  Typically, you will just use the `solve` method on this object."
   ]
  },
  {
   "cell_type": "code",
   "execution_count": 21,
   "metadata": {},
   "outputs": [
    {
     "name": "stdout",
     "output_type": "stream",
     "text": [
      "7.15027181702739e-16\n"
     ]
    }
   ],
   "source": [
    "x = np.random.randn(n)\n",
    "b = A @ x\n",
    "\n",
    "x2 = LU.solve(b)\n",
    "print(np.linalg.norm(x2 - x))"
   ]
  },
  {
   "cell_type": "markdown",
   "metadata": {},
   "source": [
    "you can also use the `sla.spsolve` function, which wraps this factorization."
   ]
  },
  {
   "cell_type": "code",
   "execution_count": 22,
   "metadata": {},
   "outputs": [
    {
     "name": "stdout",
     "output_type": "stream",
     "text": [
      "7.15027181702739e-16\n"
     ]
    }
   ],
   "source": [
    "x2 = sla.spsolve(A, b)\n",
    "print(np.linalg.norm(x2 - x))"
   ]
  },
  {
   "cell_type": "markdown",
   "metadata": {},
   "source": [
    "## Sparse Iterative Methods\n",
    "\n",
    "Sparse iterative methods are another class of methods you can use for solving linear systems built on [Krylov subspaces](https://en.wikipedia.org/wiki/Krylov_subspace).  They only require matrix-vector products, and are ideally used with sparse matrices and fast linear operators.  You can typically learn the theory behind these methods in a numerical linear algebra course - we'll just talk about how to use them. \n",
    "\n",
    "All these methods are meant to solve linear systems: find `x` so that `A @ x = b`, or least squares problems minimizing `norm(A @ x - b)`\n",
    "\n",
    "You can find a list of options in the [documentation for `scipy.sparse.linalg`](https://docs.scipy.org/doc/scipy/reference/sparse.linalg.html#solving-linear-problems).  Here are some common options:\n",
    "\n",
    "* Conjugate Gradient: `sla.cg` for `A` SPD\n",
    "* MINRES: `sla.minres` for `A` symmetric\n",
    "* GMRES: `sla.gmres` for general square `A`\n",
    "* LSQR: `sla.lsqr` for solving least squares problems\n",
    "\n",
    "For example, we can use `gmres` with the same matrix we used for `splu`:"
   ]
  },
  {
   "cell_type": "code",
   "execution_count": 33,
   "metadata": {},
   "outputs": [
    {
     "name": "stdout",
     "output_type": "stream",
     "text": [
      "9.733155120927239e-05\n"
     ]
    }
   ],
   "source": [
    "x2, exit = sla.gmres(A, b) # exit code: 0 if successful\n",
    "print(np.linalg.norm(x2 - x))"
   ]
  },
  {
   "cell_type": "code",
   "execution_count": 37,
   "metadata": {},
   "outputs": [
    {
     "name": "stdout",
     "output_type": "stream",
     "text": [
      "GMRES in 0.00339508056640625 sec.\n",
      "spsolve in 0.002160310745239258 sec.\n"
     ]
    }
   ],
   "source": [
    "import time\n",
    "x2 = np.empty_like(x)\n",
    "\n",
    "t0 = time.time()\n",
    "x2, exit = sla.gmres(A, b)\n",
    "t1 = time.time()\n",
    "print(\"GMRES in {} sec.\".format(t1 - t0))\n",
    "\n",
    "t0 = time.time()\n",
    "x2 = sla.spsolve(A, b)\n",
    "t1 = time.time()\n",
    "print(\"spsolve in {} sec.\".format(t1 - t0))"
   ]
  },
  {
   "cell_type": "markdown",
   "metadata": {},
   "source": [
    "### Sparse Direct vs. Iterative Methods\n",
    "\n",
    "There are a couple of trade offs to consider when deciding whether to use sparse direct or iterative algorithms.\n",
    "\n",
    "1.  Are you going to be solving many linear systems with the same matrix `A`?  If so, you can produce a single factorization object using `splu`, and use it to solve many right-hand sides.  Sparse direct probably makes more sense.\n",
    "2. Are you solving a single linear system?  If so, then a single call to an iterative method probably makes mores sense.\n",
    "3. Are you using a fast linear operator that could be expressed as a dense matrix (e.g. sparse plus low-rank)?  Alternatively, would the sparse LU decomposition turn dense because of fill-in?  If so, then iterative methods probably make more sense.\n",
    "4. Do you have a really good preconditioner (see below)?  Then iterative methods probably make more sense."
   ]
  },
  {
   "cell_type": "markdown",
   "metadata": {},
   "source": [
    "### Preconditioning\n",
    "\n",
    "The speed/effectiveness of iterative methods is often dependent on the existence of a good preconditioner. A preconditioner `M` for a matrix `A` is an \"approximate inverse\" i.e. `M @ A` is close to the identity.  Note if we had an exact inverse, we've solved our problem already.  What we want is to have a matrix `M` which is fast to apply (i.e. also sparse like `A`), which generally isn't possible with an exact inverse.\n",
    "\n",
    "Finding a good preconditioner is a huge field of research, and can be very domain-dependent.  A general-purpose method to obtain a preconditioner is to use an Incomplete LU decomposition (this is an LU factorization that stops when the fill-in gets too large). You can obtain one using `sla.spilu`."
   ]
  },
  {
   "cell_type": "code",
   "execution_count": 38,
   "metadata": {},
   "outputs": [],
   "source": [
    "ILUfact = sla.spilu(A)"
   ]
  },
  {
   "cell_type": "markdown",
   "metadata": {},
   "source": [
    "You can construct a preconditioner using a `LinearOperator` around the ILU object's solve method"
   ]
  },
  {
   "cell_type": "code",
   "execution_count": 42,
   "metadata": {},
   "outputs": [],
   "source": [
    "M = sla.LinearOperator(\n",
    "    shape = A.shape,\n",
    "    matvec = lambda b: ILUfact.solve(b)\n",
    ")"
   ]
  },
  {
   "cell_type": "code",
   "execution_count": 43,
   "metadata": {},
   "outputs": [
    {
     "name": "stdout",
     "output_type": "stream",
     "text": [
      "1.2773321099948192e-15\n"
     ]
    }
   ],
   "source": [
    "x2, exit = sla.gmres(A, b, M=M) # exit code: 0 if successful\n",
    "print(np.linalg.norm(x2 - x))"
   ]
  },
  {
   "cell_type": "code",
   "execution_count": 46,
   "metadata": {},
   "outputs": [
    {
     "name": "stdout",
     "output_type": "stream",
     "text": [
      "GMRES in 0.0034112930297851562 sec.\n",
      "9.733155120927239e-05\n",
      "preconditioned GMRES in 0.001874685287475586 sec.\n",
      "1.2773321099948192e-15\n"
     ]
    }
   ],
   "source": [
    "t0 = time.time()\n",
    "x2, exit = sla.gmres(A, b)\n",
    "t1 = time.time()\n",
    "print(\"GMRES in {} sec.\".format(t1 - t0))\n",
    "print(np.linalg.norm(x2 - x))\n",
    "\n",
    "t0 = time.time()\n",
    "x2, exit = sla.gmres(A, b, M=M)\n",
    "t1 = time.time()\n",
    "print(\"preconditioned GMRES in {} sec.\".format(t1 - t0))\n",
    "print(np.linalg.norm(x2 - x))"
   ]
  },
  {
   "cell_type": "markdown",
   "metadata": {},
   "source": [
    "We get a higher-precision answer in about the same amount of time."
   ]
  },
  {
   "cell_type": "markdown",
   "metadata": {},
   "source": [
    "## Eigenvalues and Eigenvectors\n",
    "\n",
    "Computing a full eigenvalue decomposition of a sparse matrix or fast linear operator doesn't typically make sense (see the the discussion for sparse direct methods).  However, there are a lot of situations in which we want to compute the eigenvalue-eigenvector pairs for a handful of the largest (or smallest) eigenvalues.  \n",
    "\n",
    "`scipy.sparse.linalg` wraps [ARPACK (ARnoldi PACKage)](https://www.caam.rice.edu/software/ARPACK/), which uses Krylov subspace techniques (like the iterative methods) to compute eigenvalues/eigenvectors using matrix-vector multiplications.  The relevant methods are `sla.eigs` (for general square matrices) and `sla.eigsh` (for symmetric/Hermitian matrices).  There is also a `sla.svds` function for the SVD.\n",
    "\n",
    "Let's look at an example for a linear operator which acts as the matrix of all ones."
   ]
  },
  {
   "cell_type": "code",
   "execution_count": 48,
   "metadata": {},
   "outputs": [],
   "source": [
    "# works on square matrices\n",
    "Afun = lambda X : np.sum(X, axis=0).reshape(1,-1).repeat(X.shape[0], axis=0)\n",
    "\n",
    "m = 10 # linear operator of size 10\n",
    "\n",
    "A = sla.LinearOperator(\n",
    "    shape   = (m,m),\n",
    "    matvec  = Afun,\n",
    "    rmatvec = Afun,\n",
    "    matmat  = Afun,\n",
    "    rmatmat = Afun,\n",
    "    dtype=np.float   \n",
    ")"
   ]
  },
  {
   "cell_type": "markdown",
   "metadata": {},
   "source": [
    "This operator is Hermitian, so we'll use `eigsh`.  By default, `eigsh` will compute the largest magnitude eigenvalues.  You can change which eigenvalues you're looking for using the `which` keyword argument, and the number of eigenvalues using the `k` argument.  See [the documentation](https://docs.scipy.org/doc/scipy/reference/generated/scipy.sparse.linalg.eigsh.html#scipy.sparse.linalg.eigsh) for details."
   ]
  },
  {
   "cell_type": "code",
   "execution_count": 54,
   "metadata": {},
   "outputs": [],
   "source": [
    "Lam, V = sla.eigsh(A)"
   ]
  },
  {
   "cell_type": "code",
   "execution_count": 55,
   "metadata": {},
   "outputs": [
    {
     "data": {
      "text/plain": [
       "array([-1.77810520e-15, -5.70747653e-32,  2.94358683e-32,  1.24595359e-31,\n",
       "        1.74836518e-18,  1.00000000e+01])"
      ]
     },
     "execution_count": 55,
     "metadata": {},
     "output_type": "execute_result"
    }
   ],
   "source": [
    "Lam"
   ]
  },
  {
   "cell_type": "markdown",
   "metadata": {},
   "source": [
    "we see there is one eigenvalue with a numerically non-zero value (10).  Let's take a look at the eigenvector"
   ]
  },
  {
   "cell_type": "code",
   "execution_count": 57,
   "metadata": {},
   "outputs": [
    {
     "data": {
      "text/plain": [
       "array([0.31622777, 0.31622777, 0.31622777, 0.31622777, 0.31622777,\n",
       "       0.31622777, 0.31622777, 0.31622777, 0.31622777, 0.31622777])"
      ]
     },
     "execution_count": 57,
     "metadata": {},
     "output_type": "execute_result"
    }
   ],
   "source": [
    "V[:,-1]"
   ]
  },
  {
   "cell_type": "markdown",
   "metadata": {},
   "source": [
    "this is the vector with constant entries.  This agrees with our understanding of the operator `A`, which can be expressed as the symmetric rank-1 outer product of the vector with 1s in every entry."
   ]
  },
  {
   "cell_type": "markdown",
   "metadata": {},
   "source": [
    "## Randomized Linear Algebra\n",
    "\n",
    "In the past decade or two, randomized linear algebra has matured as a topic with lots of practical applications.  To read about the theory, see the 2009 paper by Halko, Martinsson, and Tropp: [Link](http://users.cms.caltech.edu/~jtropp/papers/HMT11-Finding-Structure-SIREV.pdf).\n",
    "\n",
    "SciPy does not (currently) have built-in functions for randomized linear algebra functionality (some languages like Julia do).  Fortunately, these algorithms are very easy to implement without worrying too much about the theory.\n",
    "\n",
    "For simplicity, we'll assume that `A` is symmetric with distinct eigenvectors, so we can limit the discussion to eigenvectors.  A rank-`k` approximation of `A` is an approximation by a rank-`k` outer product.  We can analyitically obtain the optimal rank-`k` approximation by computing a full eigenvalue decomposition of `A` and set all the eigenvalues outside the largest `k` (in magnitude) to 0.  Again, we don't want to actually compute the full eigenvalue decomposition, so we want an algorithm that does this in some provable way.\n",
    "\n",
    "The basic idea is to get an approximation of the range of an operator `A` by applying it to a bunch of random vectors. That is, we compute `A @ X`, where `X` is a matrix with random entries (we think of every column as a random vector). One way to think about the action of `A` is that it \"rotates\" these random vectors preferentially in the direction of the top eigenvectors, so if we look at the most important subspace of the span of the image  `A @ X` (as measured by the svd), we get a good approximation of the most important eigenspace.\n",
    "\n",
    "Randomized algorithms have probabilistic gurarantees.  The statement is roughly that if entries of `X` are iid sub-Gaussian random variables (you can replace \"sub-Gaussian\" with Gaussian), and if we use `k+p` random vectors (`p` is a small constant), we can get close to the top-`k` dimensional eigenspace *with high probability*.  In this case, *close* depends on something called the spectral gap, and *with high probability* means that in order to **not** be close to the desired subspace you would likely need to keep running computations with different random numbers for millions or billions of years before you would observe the algorithm fail.\n",
    "\n",
    "Let's see how this works in practice:"
   ]
  },
  {
   "cell_type": "code",
   "execution_count": 124,
   "metadata": {},
   "outputs": [],
   "source": [
    "import scipy.linalg as la\n",
    "\n",
    "def random_span_k(A, k, p=10, power=0):\n",
    "    \"\"\"\n",
    "    Compute subspace whose span is close to contaning the top-k eigenspace of k\n",
    "    \n",
    "    p = number of dimensions to pad\n",
    "    power : number of times to run a power iteration on the subspace\n",
    "    \"\"\"\n",
    "    m, n = A.shape\n",
    "        \n",
    "    X = np.random.randn(n, k+p)\n",
    "    Y = A @ X\n",
    "    \n",
    "    U, s, Vt = la.svd(Y, full_matrices=False)\n",
    "    \n",
    "    for i in range(power):\n",
    "        Y = A @ U\n",
    "        U, s, Vt = la.svd(Y, full_matrices=False)\n",
    "    \n",
    "    \n",
    "    return U"
   ]
  },
  {
   "cell_type": "markdown",
   "metadata": {},
   "source": [
    "Let's test this on a diagonal matrix with entries 0 to `n-1` along the main diagonal.  In this case, the eigenvalues are integers, and the eigenvectors are the standard basis vectors."
   ]
  },
  {
   "cell_type": "code",
   "execution_count": 125,
   "metadata": {},
   "outputs": [
    {
     "data": {
      "text/plain": [
       "<100x100 sparse matrix of type '<class 'numpy.int64'>'\n",
       "\twith 100 stored elements (1 diagonals) in DIAgonal format>"
      ]
     },
     "execution_count": 125,
     "metadata": {},
     "output_type": "execute_result"
    }
   ],
   "source": [
    "n = 100\n",
    "D = sparse.dia_matrix((np.arange(n), [0]), shape=(n,n))\n",
    "D"
   ]
  },
  {
   "cell_type": "code",
   "execution_count": 93,
   "metadata": {},
   "outputs": [],
   "source": [
    "k = 5\n",
    "U = random_span_k(D, k)"
   ]
  },
  {
   "cell_type": "code",
   "execution_count": 120,
   "metadata": {},
   "outputs": [
    {
     "data": {
      "text/plain": [
       "array([[1., 0., 0., 0., 0.],\n",
       "       [0., 1., 0., 0., 0.],\n",
       "       [0., 0., 1., 0., 0.],\n",
       "       [0., 0., 0., 1., 0.],\n",
       "       [0., 0., 0., 0., 1.]])"
      ]
     },
     "execution_count": 120,
     "metadata": {},
     "output_type": "execute_result"
    }
   ],
   "source": [
    "lam, V = la.eigh(D.todense())\n",
    "V_true = V[:,-k:]\n",
    "V_true[-k:,:] # should see identity"
   ]
  },
  {
   "cell_type": "markdown",
   "metadata": {},
   "source": [
    "Let's take a look at how well `U` captures each eigenvector.  The distance from this subspace from the `i`th eigenvector is `norm(V[:,i].T*U)`.  Because the eigenvectors are canonical basis vectors, this is just the norm of the `i`th row of `U`"
   ]
  },
  {
   "cell_type": "code",
   "execution_count": 122,
   "metadata": {},
   "outputs": [
    {
     "name": "stdout",
     "output_type": "stream",
     "text": [
      "00 : 1.6732664631351892e-16\n",
      "01 : 0.00010897165435210413\n",
      "02 : 0.000530974318610823\n",
      "03 : 0.0016051584384889734\n",
      "04 : 0.0021523936603360196\n",
      "05 : 0.0021281501509762516\n",
      "06 : 0.0036969927204776173\n",
      "07 : 0.005760255217237298\n",
      "08 : 0.008027709391837426\n",
      "09 : 0.011758537794044736\n",
      "10 : 0.012002048872426499\n",
      "11 : 0.01301401702103647\n",
      "12 : 0.014267600794982847\n",
      "13 : 0.01592074083665808\n",
      "14 : 0.027741249249288277\n",
      "15 : 0.030363765904846865\n",
      "16 : 0.025925271299361365\n",
      "17 : 0.03578130289447755\n",
      "18 : 0.0419578155828015\n",
      "19 : 0.024171917876811135\n",
      "20 : 0.05557826611790853\n",
      "21 : 0.04048231772860537\n",
      "22 : 0.058633724338134796\n",
      "23 : 0.05439522006445533\n",
      "24 : 0.049504204027654576\n",
      "25 : 0.09601336720927857\n",
      "26 : 0.06994660535029537\n",
      "27 : 0.09585329083876305\n",
      "28 : 0.08670255482755775\n",
      "29 : 0.08050718362483897\n",
      "30 : 0.11976797718029927\n",
      "31 : 0.07668645573875972\n",
      "32 : 0.1416047384558767\n",
      "33 : 0.09943798746092763\n",
      "34 : 0.15015388469111335\n",
      "35 : 0.13322737356181166\n",
      "36 : 0.12273880423428395\n",
      "37 : 0.1640008379069395\n",
      "38 : 0.17761929499050755\n",
      "39 : 0.14250250954722396\n",
      "40 : 0.13055115200730816\n",
      "41 : 0.1899590505684629\n",
      "42 : 0.1808162767556673\n",
      "43 : 0.17852783965680555\n",
      "44 : 0.17084557932835603\n",
      "45 : 0.21590408031862499\n",
      "46 : 0.23669189540846244\n",
      "47 : 0.22514184399913395\n",
      "48 : 0.21400282515980565\n",
      "49 : 0.29508847311183467\n",
      "50 : 0.24062907538380035\n",
      "51 : 0.26347171841795564\n",
      "52 : 0.25429266117987226\n",
      "53 : 0.3273600391728416\n",
      "54 : 0.3299879130634864\n",
      "55 : 0.3014853083319661\n",
      "56 : 0.299599651537566\n",
      "57 : 0.45494766806497045\n",
      "58 : 0.36768636135803073\n",
      "59 : 0.34559772580775133\n",
      "60 : 0.2976189089966401\n",
      "61 : 0.3817925203897771\n",
      "62 : 0.3168318361970416\n",
      "63 : 0.37952321472985134\n",
      "64 : 0.48724726661145185\n",
      "65 : 0.3508385763719303\n",
      "66 : 0.41814135595948454\n",
      "67 : 0.39462025217097124\n",
      "68 : 0.4489805456183705\n",
      "69 : 0.2807656564850032\n",
      "70 : 0.41562653307095726\n",
      "71 : 0.38581559936303056\n",
      "72 : 0.5649216997609252\n",
      "73 : 0.5770553944604533\n",
      "74 : 0.6728367576829997\n",
      "75 : 0.3728909499793616\n",
      "76 : 0.5228105953320222\n",
      "77 : 0.6483812612487933\n",
      "78 : 0.6281134232687681\n",
      "79 : 0.7040923066753831\n",
      "80 : 0.702228810742129\n",
      "81 : 0.6047252027300857\n",
      "82 : 0.4704848449283555\n",
      "83 : 0.5963029953282084\n",
      "84 : 0.6316659312595194\n",
      "85 : 0.5562292621750736\n",
      "86 : 0.5288092820393268\n",
      "87 : 0.7030295645927224\n",
      "88 : 0.7489392943240628\n",
      "89 : 0.7130785079264632\n",
      "90 : 0.6727541022857707\n",
      "91 : 0.6745509984303439\n",
      "92 : 0.6302710311766827\n",
      "93 : 0.621903183667289\n",
      "94 : 0.7634868365498129\n",
      "95 : 0.5251710743223696\n",
      "96 : 0.7346703811663166\n",
      "97 : 0.6953753230990621\n",
      "98 : 0.722149919604862\n",
      "99 : 0.7695210853941981\n"
     ]
    }
   ],
   "source": [
    "for i in range(n):\n",
    "    print(\"{:02d} : {}\".format(i, np.linalg.norm(U[i])))"
   ]
  },
  {
   "cell_type": "markdown",
   "metadata": {},
   "source": [
    "As we see, `U` is closer to the larger eigenvectors, rather than the smaller eigenvectors.\n",
    "\n",
    "We can improve this estimate by running a couple of power iterations on the subspace (the `power` keyword defined above):"
   ]
  },
  {
   "cell_type": "code",
   "execution_count": 126,
   "metadata": {},
   "outputs": [
    {
     "name": "stdout",
     "output_type": "stream",
     "text": [
      "00 : 9.185848120259001e-17\n",
      "01 : 3.781042916302659e-12\n",
      "02 : 2.9908071967597884e-10\n",
      "03 : 1.750578175040582e-09\n",
      "04 : 5.9775528337161816e-09\n",
      "05 : 6.5862495368526e-08\n",
      "06 : 9.663155389557219e-08\n",
      "07 : 2.5921720636396396e-07\n",
      "08 : 6.202961861528989e-07\n",
      "09 : 2.6116422151375307e-06\n",
      "10 : 2.6454729135125615e-06\n",
      "11 : 6.802263724060081e-06\n",
      "12 : 7.20441748359208e-06\n",
      "13 : 1.1918029090864261e-05\n",
      "14 : 3.648745033692417e-05\n",
      "15 : 2.7824276623935448e-05\n",
      "16 : 6.517357885146204e-05\n",
      "17 : 4.835299331937746e-05\n",
      "18 : 7.064830001005444e-05\n",
      "19 : 0.00026798164787731515\n",
      "20 : 0.00015083765816483981\n",
      "21 : 0.0003039064909122724\n",
      "22 : 0.00031462505244794656\n",
      "23 : 0.00046676574629258676\n",
      "24 : 0.000630247428415794\n",
      "25 : 0.0007727067926094926\n",
      "26 : 0.001027013907833146\n",
      "27 : 0.000988911019135447\n",
      "28 : 0.0017955977857908414\n",
      "29 : 0.0020733859509867807\n",
      "30 : 0.0022432909936420057\n",
      "31 : 0.0035229901507533006\n",
      "32 : 0.002059089062069726\n",
      "33 : 0.0028704870663709184\n",
      "34 : 0.004448843253970472\n",
      "35 : 0.004164938711328003\n",
      "36 : 0.00785920551272076\n",
      "37 : 0.007133886800019577\n",
      "38 : 0.005973800221856117\n",
      "39 : 0.010352361251200395\n",
      "40 : 0.020867542307419402\n",
      "41 : 0.0145282863270107\n",
      "42 : 0.01598251352241369\n",
      "43 : 0.028242745007882184\n",
      "44 : 0.020265686240151334\n",
      "45 : 0.018317245702682238\n",
      "46 : 0.02891391680162608\n",
      "47 : 0.05421174608442522\n",
      "48 : 0.035072869963460464\n",
      "49 : 0.03429295458799211\n",
      "50 : 0.06690838409229379\n",
      "51 : 0.07168113797353276\n",
      "52 : 0.04404761355436787\n",
      "53 : 0.059403889594562664\n",
      "54 : 0.08176293083006785\n",
      "55 : 0.11463159202620882\n",
      "56 : 0.088850486261423\n",
      "57 : 0.09871429160164606\n",
      "58 : 0.07385767239413639\n",
      "59 : 0.0898443809675903\n",
      "60 : 0.2436970194471958\n",
      "61 : 0.16244679622846067\n",
      "62 : 0.15637948087491949\n",
      "63 : 0.1930865994996582\n",
      "64 : 0.2653424692735796\n",
      "65 : 0.2698885690185981\n",
      "66 : 0.3138013482356777\n",
      "67 : 0.29650858295997395\n",
      "68 : 0.29841331512679714\n",
      "69 : 0.26317971839251575\n",
      "70 : 0.29431762179429705\n",
      "71 : 0.4247805677675189\n",
      "72 : 0.34353060964696164\n",
      "73 : 0.44583072127394924\n",
      "74 : 0.3615975244281306\n",
      "75 : 0.3904760072444878\n",
      "76 : 0.36442673922654173\n",
      "77 : 0.45756148325598106\n",
      "78 : 0.3787476606941116\n",
      "79 : 0.8398995812518263\n",
      "80 : 0.6072456291588345\n",
      "81 : 0.6148328705354908\n",
      "82 : 0.733934078397702\n",
      "83 : 0.6323278627755267\n",
      "84 : 0.47266166456974523\n",
      "85 : 0.5922929498120149\n",
      "86 : 0.6815577578130879\n",
      "87 : 0.8515092812440375\n",
      "88 : 0.806587739317338\n",
      "89 : 0.4524312064565559\n",
      "90 : 0.8696859137339118\n",
      "91 : 0.6689067991542085\n",
      "92 : 0.813281128507606\n",
      "93 : 0.9577110586178307\n",
      "94 : 0.9226909207229048\n",
      "95 : 0.9304830636872596\n",
      "96 : 0.8916969905437098\n",
      "97 : 0.972497983914249\n",
      "98 : 0.9241590813697259\n",
      "99 : 0.9124173042544078\n"
     ]
    }
   ],
   "source": [
    "U = random_span_k(D, k, power=5)\n",
    "for i in range(n):\n",
    "    print(\"{:02d} : {}\".format(i, np.linalg.norm(U[i])))"
   ]
  },
  {
   "cell_type": "markdown",
   "metadata": {},
   "source": [
    "## Exercises\n",
    "\n",
    "Download a couple of test matrices from the UFlorida Sparse Matrix collection [Link](https://sparse.tamu.edu/)\n",
    "For, example, use `mnist_test_norm_10NN` [Link](https://sparse.tamu.edu/ML_Graph/mnist_test_norm_10NN) which would probably be too large to store on your computer as a dense matrix.\n",
    "\n",
    "For each square matrix:\n",
    "1. Solve a random linear system using `splu`\n",
    "2. Solve a random linear system using either `minres` or `gmres` (which one should you use?)\n",
    "3. Compute the largest magnitude eigenvector using `eigs` or `eigh` (which one should you use?)\n",
    "\n",
    "Find a non-square matrix and\n",
    "1. Solve a random least squares problem using `lsqr`\n",
    "2. Compute the largest singular vectors using `svds`"
   ]
  },
  {
   "cell_type": "code",
   "execution_count": null,
   "metadata": {},
   "outputs": [],
   "source": [
    "## Your code here\n"
   ]
  }
 ],
 "metadata": {
  "kernelspec": {
   "display_name": "Python (pycourse)",
   "language": "python",
   "name": "pycourse"
  },
  "language_info": {
   "codemirror_mode": {
    "name": "ipython",
    "version": 3
   },
   "file_extension": ".py",
   "mimetype": "text/x-python",
   "name": "python",
   "nbconvert_exporter": "python",
   "pygments_lexer": "ipython3",
   "version": "3.8.3"
  }
 },
 "nbformat": 4,
 "nbformat_minor": 4
}
