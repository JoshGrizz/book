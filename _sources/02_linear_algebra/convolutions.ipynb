{
 "cells": [
  {
   "cell_type": "markdown",
   "metadata": {},
   "source": [
    "# Convolutions\n",
    "\n",
    "A [convolution](https://en.wikipedia.org/wiki/Convolution) is a linear operator of the form\n",
    "\\begin{equation}\n",
    "(f \\ast g)(t) = \\int f(\\tau) g(t - \\tau ) d\\tau\n",
    "\\end{equation}\n",
    "In a discrete space, this turns into a sum\n",
    "\\begin{equation}\n",
    "\\sum_\\tau f(\\tau) g(t - \\tau)\n",
    "\\end{equation}\n",
    "\n",
    "Convolutions are *shift invariant*, or *time invariant*.  They frequently appear in temporal and spatial image processing, as well as in probability.\n",
    "\n",
    "If we want to represent the discrete convolution operator as a matrix, we get a *toeplitz matrix* $G$\n",
    "\\begin{equation}\n",
    "G = \\begin{bmatrix}\n",
    "g(0) & g(1) & g(2) & \\dots\\\\\n",
    "g(-1) & g(0) & g(1) &\\dots\\\\\n",
    "g(-2) & g(-1) & g(0) & \\dots\\\\\n",
    "\\vdots & & &\\ddots\n",
    "\\end{bmatrix}\n",
    "\\end{equation}\n",
    "\n",
    "A circulant matrix on a discrete grid of length $N$ is a toeplitz matrix where $g(-i) = g(N-i)$."
   ]
  },
  {
   "cell_type": "code",
   "execution_count": 1,
   "metadata": {},
   "outputs": [],
   "source": [
    "import numpy as np\n",
    "import scipy as sp\n",
    "import scipy.linalg as la\n",
    "import matplotlib.pyplot as plt"
   ]
  },
  {
   "cell_type": "code",
   "execution_count": 15,
   "metadata": {},
   "outputs": [
    {
     "data": {
      "text/plain": [
       "array([[ 0,  1,  2,  3],\n",
       "       [-1,  0,  1,  2],\n",
       "       [-2, -1,  0,  1],\n",
       "       [-3, -2, -1,  0]])"
      ]
     },
     "execution_count": 15,
     "metadata": {},
     "output_type": "execute_result"
    }
   ],
   "source": [
    "c = np.arange(0,-4, -1) # first column\n",
    "r = np.arange(4) # first row\n",
    "la.toeplitz(c, r)"
   ]
  },
  {
   "cell_type": "code",
   "execution_count": 13,
   "metadata": {},
   "outputs": [
    {
     "data": {
      "text/plain": [
       "array([[0, 3, 2, 1],\n",
       "       [1, 0, 3, 2],\n",
       "       [2, 1, 0, 3],\n",
       "       [3, 2, 1, 0]])"
      ]
     },
     "execution_count": 13,
     "metadata": {},
     "output_type": "execute_result"
    }
   ],
   "source": [
    "c = np.arange(4)\n",
    "la.circulant(c)"
   ]
  },
  {
   "cell_type": "markdown",
   "metadata": {},
   "source": [
    "both toeplitz and circulant matrices have special `solve` function in `scipy.linalg`"
   ]
  },
  {
   "cell_type": "code",
   "execution_count": 24,
   "metadata": {},
   "outputs": [
    {
     "name": "stdout",
     "output_type": "stream",
     "text": [
      "standard solve\n",
      "CPU times: user 1 ms, sys: 0 ns, total: 1 ms\n",
      "Wall time: 826 µs\n",
      "\n",
      "toeplitz solve\n",
      "CPU times: user 234 µs, sys: 0 ns, total: 234 µs\n",
      "Wall time: 193 µs\n",
      "6.159157357270676e-12\n"
     ]
    }
   ],
   "source": [
    "N = 100\n",
    "c = np.random.randn(N)\n",
    "r = np.random.randn(N)\n",
    "A = la.toeplitz(c, r)\n",
    "\n",
    "x = np.random.rand(N)\n",
    "\n",
    "print(\"standard solve\")\n",
    "%time y1 = la.solve(A, x)\n",
    "\n",
    "print(\"\\ntoeplitz solve\")\n",
    "%time y2 = la.solve_toeplitz((c,r), x)\n",
    "\n",
    "print(la.norm(y1- y2))"
   ]
  },
  {
   "cell_type": "code",
   "execution_count": 29,
   "metadata": {},
   "outputs": [
    {
     "name": "stdout",
     "output_type": "stream",
     "text": [
      "standard solve\n",
      "CPU times: user 1.76 ms, sys: 48 µs, total: 1.81 ms\n",
      "Wall time: 985 µs\n",
      "\n",
      "circulant solve\n",
      "CPU times: user 213 µs, sys: 0 ns, total: 213 µs\n",
      "Wall time: 201 µs\n",
      "3.8506968586483955e-15\n"
     ]
    }
   ],
   "source": [
    "N = 100\n",
    "c = np.random.randn(N)\n",
    "A = la.circulant(c)\n",
    "\n",
    "x = np.random.randn(N)\n",
    "\n",
    "print(\"standard solve\")\n",
    "%time y1 = la.solve(A, x)\n",
    "\n",
    "print(\"\\ncirculant solve\")\n",
    "%time y2 = la.solve_circulant(c, x)\n",
    "\n",
    "print(la.norm(y1- y2))"
   ]
  },
  {
   "cell_type": "markdown",
   "metadata": {},
   "source": [
    "### Example\n",
    "\n",
    "One place where convolutions appear is in combining probability distributions.  For instance, if we take a sample $x \\sim y + z$ where $y \\sim f$ and $z \\sim g$ and $f, g$ are probability density functions, then the probability density function that describes the random variable $x$ is $f\\ast g$."
   ]
  },
  {
   "cell_type": "markdown",
   "metadata": {},
   "source": [
    "## Fourier Transforms\n",
    "\n",
    "A [Fourier transform](https://en.wikipedia.org/wiki/Fourier_transform) takes functions back and forth between time and frequency domains.\n",
    "\\begin{equation}\n",
    "\\hat{f}(\\omega) = \\int_{-\\infty}^\\infty f(x) e^{-2\\pi i x \\omega} dx\n",
    "\\end{equation}\n",
    "\n",
    "In practice, Fourier transforms are often computed using the Fast Fourier Transform (FFT) algorithm, which runs in $O(N\\log N)$ time for a signal of length $N$.  Scipy provides funcitons for FFT as well as the inverse iFFT.\n"
   ]
  },
  {
   "cell_type": "code",
   "execution_count": 40,
   "metadata": {},
   "outputs": [
    {
     "data": {
      "text/plain": [
       "[<matplotlib.lines.Line2D at 0x7fa3c7da9700>]"
      ]
     },
     "execution_count": 40,
     "metadata": {},
     "output_type": "execute_result"
    },
    {
     "data": {
      "image/png": "[encoded data removed]",
      "text/plain": [
       "<Figure size 432x288 with 1 Axes>"
      ]
     },
     "metadata": {
      "needs_background": "light"
     },
     "output_type": "display_data"
    }
   ],
   "source": [
    "from scipy.fft import fft, ifft\n",
    "\n",
    "x = np.linspace(0, 2*np.pi, 100)\n",
    "f = np.sin(4*x) + np.sin(8*x)\n",
    "plt.plot(x, f)"
   ]
  },
  {
   "cell_type": "markdown",
   "metadata": {},
   "source": [
    "the function in frequency space typically has real and imaginary components."
   ]
  },
  {
   "cell_type": "code",
   "execution_count": 43,
   "metadata": {},
   "outputs": [
    {
     "data": {
      "text/plain": [
       "[<matplotlib.lines.Line2D at 0x7fa3c7ca3ee0>]"
      ]
     },
     "execution_count": 43,
     "metadata": {},
     "output_type": "execute_result"
    },
    {
     "data": {
      "image/png": "[encoded data removed]",
      "text/plain": [
       "<Figure size 432x288 with 1 Axes>"
      ]
     },
     "metadata": {
      "needs_background": "light"
     },
     "output_type": "display_data"
    }
   ],
   "source": [
    "fhat = fft(f)\n",
    "plt.plot(np.abs(fhat))\n",
    "plt.show()"
   ]
  },
  {
   "cell_type": "code",
   "execution_count": 45,
   "metadata": {},
   "outputs": [
    {
     "data": {
      "image/png": "[encoded data removed]",
      "text/plain": [
       "<Figure size 432x288 with 1 Axes>"
      ]
     },
     "metadata": {
      "needs_background": "light"
     },
     "output_type": "display_data"
    }
   ],
   "source": [
    "f2 = ifft(fhat)\n",
    "plt.plot(np.real(f2))\n",
    "plt.show()"
   ]
  },
  {
   "cell_type": "markdown",
   "metadata": {},
   "source": [
    "Fourier transforms can reveal a variety of useful information and have many useful properties.  One of which is that convolutions in the time/spatial domain become pointwise multiplication in the frequency domain.\n",
    "\n",
    "\\begin{equation}\n",
    "h = f \\ast g \\Leftrightarrow \\hat{h} = \\hat{f} \\hat{g}\n",
    "\\end{equation}\n",
    "\n",
    "This means that circulant matrices and their inverses can be applied in $O(N \\log N)$ time using the FFT."
   ]
  },
  {
   "cell_type": "code",
   "execution_count": 46,
   "metadata": {},
   "outputs": [],
   "source": [
    "def apply_circulant(c, x):\n",
    "    \"\"\"\n",
    "    apply circulant matrix with first row c to a vector x\n",
    "    \n",
    "    y = C x\n",
    "    \"\"\"\n",
    "    c_hat = fft(c)\n",
    "    x_hat = fft(x)\n",
    "    y_hat = c_hat * x_hat\n",
    "    return ifft(y_hat)"
   ]
  },
  {
   "cell_type": "code",
   "execution_count": 48,
   "metadata": {},
   "outputs": [
    {
     "name": "stdout",
     "output_type": "stream",
     "text": [
      "CPU times: user 39 µs, sys: 0 ns, total: 39 µs\n",
      "Wall time: 43.9 µs\n",
      "CPU times: user 434 µs, sys: 0 ns, total: 434 µs\n",
      "Wall time: 383 µs\n"
     ]
    },
    {
     "data": {
      "text/plain": [
       "3.158782819493711e-14"
      ]
     },
     "execution_count": 48,
     "metadata": {},
     "output_type": "execute_result"
    }
   ],
   "source": [
    "N = 100\n",
    "c = np.random.randn(N)\n",
    "A = la.circulant(c)\n",
    "\n",
    "x = np.random.randn(N)\n",
    "\n",
    "%time y1 = A @ x\n",
    "%time y2 = apply_circulant(c, x)\n",
    "\n",
    "la.norm(y1 - y2)"
   ]
  },
  {
   "cell_type": "code",
   "execution_count": 49,
   "metadata": {},
   "outputs": [],
   "source": [
    "def apply_circulant_inv(c, x):\n",
    "    \"\"\"\n",
    "    apply inverse of circulant matrix with first row c to a vector x\n",
    "    \n",
    "    y = C^{-1} x\n",
    "    \"\"\"\n",
    "    c_hat = fft(c)\n",
    "    x_hat = fft(x)\n",
    "    y_hat = x_hat / c_hat\n",
    "    return ifft(y_hat)"
   ]
  },
  {
   "cell_type": "code",
   "execution_count": 50,
   "metadata": {},
   "outputs": [
    {
     "name": "stdout",
     "output_type": "stream",
     "text": [
      "CPU times: user 242 µs, sys: 15 µs, total: 257 µs\n",
      "Wall time: 233 µs\n",
      "CPU times: user 269 µs, sys: 0 ns, total: 269 µs\n",
      "Wall time: 255 µs\n"
     ]
    },
    {
     "data": {
      "text/plain": [
       "4.5836491643602516e-15"
      ]
     },
     "execution_count": 50,
     "metadata": {},
     "output_type": "execute_result"
    }
   ],
   "source": [
    "N = 100\n",
    "c = np.random.randn(N)\n",
    "A = la.circulant(c)\n",
    "\n",
    "x = np.random.randn(N)\n",
    "b = A @ x\n",
    "\n",
    "%time y1 = la.solve_circulant(c, x)\n",
    "%time y2 = apply_circulant_inv(c, x)\n",
    "\n",
    "la.norm(y1 - y2)"
   ]
  },
  {
   "cell_type": "markdown",
   "metadata": {},
   "source": [
    "### Exercise\n",
    "\n",
    "Create a plot that demonstrates the asymptotic scaling of the FFT is $O(N \\log N)$"
   ]
  },
  {
   "cell_type": "code",
   "execution_count": null,
   "metadata": {},
   "outputs": [],
   "source": [
    "## Your code here"
   ]
  },
  {
   "cell_type": "markdown",
   "metadata": {},
   "source": [
    "## Higher Dimensions\n",
    "\n",
    "In 2 dimensions, you can use scipy's [`fft2` and `ifft2`](https://docs.scipy.org/doc/scipy/reference/tutorial/fft.html#and-n-d-discrete-fourier-transforms) for 2-dimensional signals such as images.\n",
    "\n",
    "### Sparse Convolutions\n",
    "\n",
    "In image processing, you may often encounter sparse convolutions, particularly convolutions that are very localized (e.g. only the first few entries of the firs row `c` are nonzero).  One example is that many camera lenses cause a slight blur which mixes light from nearby sources.  In deep learning, these sparse convolutions have been very effective in image processing tasks. Perhaps the simplest explanation of why learning parameters for a convolution is a good idea in this situation is that convolutions are *translation invariant* allowing the neural net to learn regardless of where a target appears on an image.\n",
    "\n",
    "In this case, we typically think of convolutions as $k\\times k$ patches which slide over a 2-dimensional image.  "
   ]
  },
  {
   "cell_type": "code",
   "execution_count": null,
   "metadata": {},
   "outputs": [],
   "source": []
  }
 ],
 "metadata": {
  "kernelspec": {
   "display_name": "Python (pycourse)",
   "language": "python",
   "name": "pycourse"
  },
  "language_info": {
   "codemirror_mode": {
    "name": "ipython",
    "version": 3
   },
   "file_extension": ".py",
   "mimetype": "text/x-python",
   "name": "python",
   "nbconvert_exporter": "python",
   "pygments_lexer": "ipython3",
   "version": "3.8.3"
  }
 },
 "nbformat": 4,
 "nbformat_minor": 4
}
