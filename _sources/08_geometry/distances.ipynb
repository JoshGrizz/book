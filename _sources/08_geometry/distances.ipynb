{
 "cells": [
  {
   "cell_type": "markdown",
   "metadata": {},
   "source": [
    "# Distances\n",
    "\n",
    "A common task when dealing with data is computing the distance between two points.\n",
    "\n",
    "We can use [`scipy.spatial.distance`](https://docs.scipy.org/doc/scipy/reference/spatial.distance.html) to compute a variety of distances."
   ]
  },
  {
   "cell_type": "code",
   "execution_count": 26,
   "metadata": {},
   "outputs": [],
   "source": [
    "import numpy as np\n",
    "import scipy.linalg as la\n",
    "import matplotlib.pyplot as plt\n",
    "import scipy.spatial.distance as distance"
   ]
  },
  {
   "cell_type": "markdown",
   "metadata": {},
   "source": [
    "A data set is a collection of observations, each of which may have several features.  We'll consider the situation where the data set is a matrix `X`, where each row `X[i]` is an observation.  We'll use `n` to denote the number of observations and `p` to denote the number of features, so `X` is a $n \\times p$ matrix.\n",
    "\n",
    "For example, we might sample from a circle (with some gaussian noise)"
   ]
  },
  {
   "cell_type": "code",
   "execution_count": 2,
   "metadata": {},
   "outputs": [
    {
     "data": {
      "image/png": "[encoded data removed]",
      "text/plain": [
       "<Figure size 432x288 with 1 Axes>"
      ]
     },
     "metadata": {
      "needs_background": "light"
     },
     "output_type": "display_data"
    }
   ],
   "source": [
    "def sample_circle(n, r=1, sigma=0.1):\n",
    "    \"\"\"\n",
    "    sample n points from a circle of radius r\n",
    "    add Gaussian noise with variance sigma^2\n",
    "    \"\"\"\n",
    "    X = np.random.randn(n,2)\n",
    "    X = r * X / np.linalg.norm(X,axis=1).reshape(-1,1)\n",
    "    return X + sigma * np.random.randn(n,2)\n",
    "\n",
    "X = sample_circle(100)\n",
    "plt.scatter(X[:,0], X[:,1])\n",
    "plt.show()"
   ]
  },
  {
   "cell_type": "markdown",
   "metadata": {},
   "source": [
    "We might also call a data set a \"point cloud\", or a collection of points in some space."
   ]
  },
  {
   "cell_type": "markdown",
   "metadata": {},
   "source": [
    "## Similarity, Dissimilarity, and Metric\n",
    "\n",
    "A **similarity** between two points $x, y\\in X$ is a function $s: X \\times X \\to \\mathbb{R}$, where $s$ is larger if $x,y$ are more similar.\n",
    "\n",
    "**Cosine similarity** is an an example of similarity for points in a real vector space.  We can define it as\n",
    "\\begin{equation}\n",
    "c(x,y) = \\frac{x^T y}{\\|x\\|_2 \\|y\\|_2}\n",
    "\\end{equation}\n",
    "\n",
    "Note $c(x,x) = 1$, and if $x,y$ are orthogonal, then $c(x,y) = 0$.\n",
    "\n",
    "A **dissimilarity** between two points $x,y \\in X$ is a function $d: X \\times X \\to \\mathbb{R}_+$, where $d$ is smaller if $x,y$ are more similar.  Sometimes, disimilarity functions will be called **distances**.\n",
    "\n",
    "**Cosine distance** is an example of a dissimilarity for points in a real vector space.  It is defined as\n",
    "\\begin{equation}\n",
    "d(x,y) = 1 - c(x,y)\n",
    "\\end{equation}\n",
    "Note $d(x,x) = 0$, and $d(x,y) = 1$ if $x,y$ are orthogonal.\n",
    "\n",
    "A **metric** is a disimilarity $d$ that satisfies the metric axioms\n",
    "1. $d(x,y) = 0$ iff $x=y$ (identity)\n",
    "2. $d(x,y) = d(y,x)$ (symmetry)\n",
    "3. $d(x,y) \\le d(x,z) + d(z,y)$ (triangle inequality)\n",
    "\n",
    "You are probably most familiar with the Euclidean metric\n",
    "\\begin{equation}\n",
    "d(x,y) = \\|x - y\\|_2\n",
    "\\end{equation}"
   ]
  },
  {
   "cell_type": "markdown",
   "metadata": {},
   "source": [
    "### Exercise\n",
    "\n",
    "Write functions for the cosine similarity, cosine distance, and euclidean distance between two numpy arrays treated as vectors."
   ]
  },
  {
   "cell_type": "code",
   "execution_count": null,
   "metadata": {},
   "outputs": [],
   "source": [
    "## Your code here\n"
   ]
  },
  {
   "cell_type": "markdown",
   "metadata": {},
   "source": [
    "### Computing Distances\n",
    "\n",
    "SciPy provides a variety of functionality for computing distances in [`scipy.spatial.distance`](https://docs.scipy.org/doc/scipy/reference/spatial.distance.html)."
   ]
  },
  {
   "cell_type": "code",
   "execution_count": 3,
   "metadata": {},
   "outputs": [
    {
     "data": {
      "text/plain": [
       "1.4142135623730951"
      ]
     },
     "execution_count": 3,
     "metadata": {},
     "output_type": "execute_result"
    }
   ],
   "source": [
    "x = [1.0, 0.0]\n",
    "y = [0.0, 1.0]\n",
    "\n",
    "distance.euclidean(x, y) # sqrt(2)"
   ]
  },
  {
   "cell_type": "code",
   "execution_count": 4,
   "metadata": {},
   "outputs": [
    {
     "data": {
      "text/plain": [
       "1.0"
      ]
     },
     "execution_count": 4,
     "metadata": {},
     "output_type": "execute_result"
    }
   ],
   "source": [
    "distance.cosine(x, y)"
   ]
  },
  {
   "cell_type": "markdown",
   "metadata": {},
   "source": [
    "the $L_1$ / Manhattan / City block distance\n",
    "\\begin{equation}\n",
    "d(x,y) = \\|x - y\\|_1 = \\sum_i |x_i - y_i|\n",
    "\\end{equation}"
   ]
  },
  {
   "cell_type": "code",
   "execution_count": 6,
   "metadata": {},
   "outputs": [
    {
     "data": {
      "text/plain": [
       "2.0"
      ]
     },
     "execution_count": 6,
     "metadata": {},
     "output_type": "execute_result"
    }
   ],
   "source": [
    "distance.cityblock(x, y)"
   ]
  },
  {
   "cell_type": "markdown",
   "metadata": {},
   "source": [
    "The $L_\\infty$ / Chebyshev distance\n",
    "\\begin{equation}\n",
    "d(x,y) = \\|x - y\\|_\\infty = \\max_i |x_i - y_i|\n",
    "\\end{equation}"
   ]
  },
  {
   "cell_type": "code",
   "execution_count": 7,
   "metadata": {},
   "outputs": [
    {
     "data": {
      "text/plain": [
       "1.0"
      ]
     },
     "execution_count": 7,
     "metadata": {},
     "output_type": "execute_result"
    }
   ],
   "source": [
    "distance.chebyshev(x, y)"
   ]
  },
  {
   "cell_type": "markdown",
   "metadata": {},
   "source": [
    "More generally, the Minkowski distance\n",
    "\\begin{equation}\n",
    "d(x,y) = \\|x - y\\|_p = \\big( \\sum_i (x_i - y_i)^p \\big)^{1/p}\n",
    "\\end{equation}"
   ]
  },
  {
   "cell_type": "code",
   "execution_count": 10,
   "metadata": {},
   "outputs": [
    {
     "data": {
      "text/plain": [
       "1.2599210498948732"
      ]
     },
     "execution_count": 10,
     "metadata": {},
     "output_type": "execute_result"
    }
   ],
   "source": [
    "distance.minkowski(x, y, 3)"
   ]
  },
  {
   "cell_type": "code",
   "execution_count": 12,
   "metadata": {},
   "outputs": [
    {
     "data": {
      "text/plain": [
       "1.2599210498948734"
      ]
     },
     "execution_count": 12,
     "metadata": {},
     "output_type": "execute_result"
    }
   ],
   "source": [
    "np.cbrt(2) # cube root of 2"
   ]
  },
  {
   "cell_type": "markdown",
   "metadata": {},
   "source": [
    "The [Mahalanobis distance](https://docs.scipy.org/doc/scipy/reference/generated/scipy.spatial.distance.mahalanobis.html#scipy.spatial.distance.mahalanobis).  Note that this is defined in terms of an inverse covariance matrix.  In fact, you can use it to compute distances based on the $A$-norm where $A$ is any symmetric positive definite (SPD) matrix.\n",
    "\n",
    "\\begin{equation}\n",
    "d(x,y) = \\| x- y \\|_A = \\sqrt{(x - y)^T A (x - y)}\n",
    "\\end{equation}"
   ]
  },
  {
   "cell_type": "code",
   "execution_count": 9,
   "metadata": {},
   "outputs": [
    {
     "data": {
      "text/plain": [
       "2.752139505692524"
      ]
     },
     "execution_count": 9,
     "metadata": {},
     "output_type": "execute_result"
    }
   ],
   "source": [
    "A = np.random.randn(3,2)\n",
    "A = A.T @ A\n",
    "distance.mahalanobis(x, y, A)"
   ]
  },
  {
   "cell_type": "markdown",
   "metadata": {},
   "source": [
    "You can also weight many distances with a vector $w$.  The entry $w_i$ will weight the comparison between the $i$th entries of $x$ and $y$.  E.g. weighted euclidean distance\n",
    "\\begin{equation}\n",
    "d(x, y; w) = \\sqrt{\\sum_i w_i(x_i - y_i)^2}\n",
    "\\end{equation}"
   ]
  },
  {
   "cell_type": "code",
   "execution_count": 15,
   "metadata": {},
   "outputs": [
    {
     "name": "stdout",
     "output_type": "stream",
     "text": [
      "1.7320508075688774\n",
      "3.0\n",
      "1.4422495703074083\n"
     ]
    }
   ],
   "source": [
    "w = [1, 2]\n",
    "for d in (distance.euclidean, distance.cityblock, lambda x, y, w : distance.minkowski(x, y, 3, w)):\n",
    "    print(d(x, y, w))"
   ]
  },
  {
   "cell_type": "markdown",
   "metadata": {},
   "source": [
    "### Exercise\n",
    "\n",
    "Compute a weighted euclidean distance using the Mahalanobis distance."
   ]
  },
  {
   "cell_type": "code",
   "execution_count": null,
   "metadata": {},
   "outputs": [],
   "source": [
    "## Your code here\n"
   ]
  },
  {
   "cell_type": "markdown",
   "metadata": {},
   "source": [
    "## Pairwise Distances\n",
    "\n",
    "In general, we often want to compute distances between many points all at once. This typically boils down to computing a matrix $D$, where $D_{i,j} = d(x_i, x_j)$.  \n",
    "\n",
    "Here's a simple function that would do just that"
   ]
  },
  {
   "cell_type": "code",
   "execution_count": 16,
   "metadata": {},
   "outputs": [],
   "source": [
    "def pairwise(X, dist=distance.euclidean):\n",
    "    \"\"\"\n",
    "    compute pairwise distances in n x p numpy array X\n",
    "    \"\"\"\n",
    "    n, p = X.shape\n",
    "    D = np.empty((n,n), dtype=np.float64)\n",
    "    for i in range(n):\n",
    "        for j in range(n):\n",
    "            D[i,j] = dist(X[i], X[j])\n",
    "            \n",
    "    return D"
   ]
  },
  {
   "cell_type": "code",
   "execution_count": 18,
   "metadata": {},
   "outputs": [
    {
     "data": {
      "text/plain": [
       "array([[0.        , 1.35265694, 0.04354453, 2.11768326, 2.17466927],\n",
       "       [1.35265694, 0.        , 1.30915202, 1.46703377, 1.70918977],\n",
       "       [0.04354453, 1.30915202, 0.        , 2.08501659, 2.14658828],\n",
       "       [2.11768326, 1.46703377, 2.08501659, 0.        , 0.31950946],\n",
       "       [2.17466927, 1.70918977, 2.14658828, 0.31950946, 0.        ]])"
      ]
     },
     "execution_count": 18,
     "metadata": {},
     "output_type": "execute_result"
    }
   ],
   "source": [
    "X = sample_circle(5)\n",
    "pairwise(X)"
   ]
  },
  {
   "cell_type": "code",
   "execution_count": 19,
   "metadata": {},
   "outputs": [
    {
     "data": {
      "text/plain": [
       "array([[0.        , 1.52813873, 0.04995077, 2.59509801, 2.56175788],\n",
       "       [1.52813873, 0.        , 1.47822326, 1.43795991, 1.64845923],\n",
       "       [0.04995077, 1.47822326, 0.        , 2.54729259, 2.51620815],\n",
       "       [2.59509801, 1.43795991, 2.54729259, 0.        , 0.31698526],\n",
       "       [2.56175788, 1.64845923, 2.51620815, 0.31698526, 0.        ]])"
      ]
     },
     "execution_count": 19,
     "metadata": {},
     "output_type": "execute_result"
    }
   ],
   "source": [
    "pairwise(X, dist=lambda x, y : distance.minkowski(x, y, 3, [1.0, 2.0]))"
   ]
  },
  {
   "cell_type": "markdown",
   "metadata": {},
   "source": [
    "There are a couple of inneficiencies above:\n",
    "1. D is symmetric (we do redundant computation)\n",
    "2. For some metrics, it can be more efficient to compute many distances at once\n",
    "\n",
    "As an example of point 2, pairwise euclidean distances are\n",
    "\\begin{equation}\n",
    "d(x_i, x_j) = \\sqrt{(x_i - x_j)^T (x_i -x_j)}\\\\\n",
    "= \\sqrt{x_i^T x_i - 2 x_i^T x_j + x_j^T x_j}\n",
    "\\end{equation}\n",
    "\n",
    "Let $x^2$ denote the vector of length $n$ where $x_i^2 = x_i^T x_i$, and let $1$ denote the vector of ones (of length $n$).  Then\n",
    "\\begin{equation}\n",
    "D = \\sqrt{1 x^{2T} + x^2 1^T - 2 X X^T}\n",
    "\\end{equation}\n",
    "\n",
    "Thus, we can take advantage of BLAS level 3 operations to compute the distance matrix"
   ]
  },
  {
   "cell_type": "code",
   "execution_count": 27,
   "metadata": {},
   "outputs": [
    {
     "data": {
      "text/plain": [
       "1.0152623829513476e-15"
      ]
     },
     "execution_count": 27,
     "metadata": {},
     "output_type": "execute_result"
    }
   ],
   "source": [
    "def pairwise_euclidean(X):\n",
    "    \"\"\"\n",
    "    Compute pairwise euclidean distances in X\n",
    "    \"\"\"\n",
    "    XXT = X @ X.T\n",
    "    x2 = np.diag(XXT)\n",
    "    one = np.ones(X.shape[0])\n",
    "    D = np.outer(x2, one) + np.outer(one, x2) - 2*XXT\n",
    "    return np.sqrt(D)\n",
    "\n",
    "la.norm(pairwise_euclidean(X) - pairwise(X))"
   ]
  },
  {
   "cell_type": "markdown",
   "metadata": {},
   "source": [
    "We can also use [BLAS syr2](http://www.netlib.org/lapack/explore-html/d7/d15/group__double__blas__level2_gae96880c53b8eaee70bbef273b905715f.html#gae96880c53b8eaee70bbef273b905715f) for the rank-2 update:"
   ]
  },
  {
   "cell_type": "code",
   "execution_count": 33,
   "metadata": {},
   "outputs": [
    {
     "name": "stdout",
     "output_type": "stream",
     "text": [
      "a = dsyr2(alpha,x,y,[lower,incx,offx,incy,offy,n,a,overwrite_a])\n",
      "\n",
      "Wrapper for ``dsyr2``.\n",
      "\n",
      "Parameters\n",
      "----------\n",
      "alpha : input float\n",
      "x : input rank-1 array('d') with bounds (*)\n",
      "y : input rank-1 array('d') with bounds (*)\n",
      "\n",
      "Other Parameters\n",
      "----------------\n",
      "lower : input int, optional\n",
      "    Default: 0\n",
      "incx : input int, optional\n",
      "    Default: 1\n",
      "offx : input int, optional\n",
      "    Default: 0\n",
      "incy : input int, optional\n",
      "    Default: 1\n",
      "offy : input int, optional\n",
      "    Default: 0\n",
      "n : input int, optional\n",
      "    Default: ((len(x)-1-offx)/abs(incx)+1 <=(len(y)-1-offy)/abs(incy)+1 ?(len(x)-1-offx)/abs(incx)+1 :(len(y)-1-offy)/abs(incy)+1)\n",
      "a : input rank-2 array('d') with bounds (n,n)\n",
      "overwrite_a : input int, optional\n",
      "    Default: 0\n",
      "\n",
      "Returns\n",
      "-------\n",
      "a : rank-2 array('d') with bounds (n,n)\n",
      "\n"
     ]
    }
   ],
   "source": [
    "print(la.blas.dsyr2.__doc__)"
   ]
  },
  {
   "cell_type": "code",
   "execution_count": 49,
   "metadata": {},
   "outputs": [
    {
     "data": {
      "text/plain": [
       "7.661745539035014e-16"
      ]
     },
     "execution_count": 49,
     "metadata": {},
     "output_type": "execute_result"
    }
   ],
   "source": [
    "def pairwise_euclidean_blas(X):\n",
    "    \"\"\"\n",
    "    Compute pairwise euclidean distances in X \n",
    "    use syrk2 for rank-2 update\n",
    "    \"\"\"\n",
    "    XXT = X @ X.T\n",
    "    x2 = np.diag(XXT)\n",
    "    one = np.ones(X.shape[0])\n",
    "    D = la.blas.dsyr2(1.0, x2, one, a=-2*XXT) # this only updates upper triangular part\n",
    "    D = np.triu(D) # extract upper triangular part\n",
    "    return np.sqrt(D + D.T)\n",
    "\n",
    "la.norm(pairwise_euclidean_blas(X) - pairwise(X))"
   ]
  },
  {
   "cell_type": "code",
   "execution_count": 58,
   "metadata": {},
   "outputs": [
    {
     "name": "stdout",
     "output_type": "stream",
     "text": [
      "pairwise : 0.1133584976196289 sec.\n",
      "pairwise_euclidean : 0.0005390644073486328 sec.\n",
      "pairwise_euclidean_blas : 0.00022745132446289062 sec.\n"
     ]
    }
   ],
   "source": [
    "import time\n",
    "\n",
    "# generate data set\n",
    "n = 100\n",
    "d = 2\n",
    "\n",
    "X = np.random.randn(n, d)\n",
    "\n",
    "for d in (pairwise, pairwise_euclidean, pairwise_euclidean_blas):\n",
    "    t0 = time.time()\n",
    "    D = d(X)\n",
    "    t1 = time.time()\n",
    "    print(\"{} : {} sec.\".format(d.__name__, t1 - t0))"
   ]
  },
  {
   "cell_type": "markdown",
   "metadata": {},
   "source": [
    "### Exercise\n",
    "\n",
    "Write a version of `pairwise_euclidean` which uses Numba.  How does this compare to the BLAS implementation?"
   ]
  },
  {
   "cell_type": "code",
   "execution_count": 73,
   "metadata": {},
   "outputs": [],
   "source": [
    "## Your code here\n"
   ]
  },
  {
   "cell_type": "markdown",
   "metadata": {},
   "source": [
    "### `pdist`\n",
    "\n",
    "You don't need to implement these faster methods yourself. [`scipy.spatial.distance.pdist`](https://docs.scipy.org/doc/scipy/reference/generated/scipy.spatial.distance.pdist.html#scipy.spatial.distance.pdist) has built-in optimizations for a variety of pairwise distance computations.  You can use [`scipy.spatial.distance.cdist`](https://docs.scipy.org/doc/scipy/reference/generated/scipy.spatial.distance.cdist.html#scipy.spatial.distance.cdist) if you are computing pairwise distances between two data sets $X, Y$."
   ]
  },
  {
   "cell_type": "code",
   "execution_count": 59,
   "metadata": {},
   "outputs": [],
   "source": [
    "from scipy.spatial.distance import pdist, cdist"
   ]
  },
  {
   "cell_type": "code",
   "execution_count": 61,
   "metadata": {},
   "outputs": [],
   "source": [
    "D = pdist(X)"
   ]
  },
  {
   "cell_type": "markdown",
   "metadata": {},
   "source": [
    "The output of `pdist` is not a matrix, but a condensed form which stores the lower-triangular entries in a vector."
   ]
  },
  {
   "cell_type": "code",
   "execution_count": 62,
   "metadata": {},
   "outputs": [
    {
     "data": {
      "text/plain": [
       "(4950,)"
      ]
     },
     "execution_count": 62,
     "metadata": {},
     "output_type": "execute_result"
    }
   ],
   "source": [
    "D.shape"
   ]
  },
  {
   "cell_type": "markdown",
   "metadata": {},
   "source": [
    "to get a square matrix, you can use [`squareform`](https://docs.scipy.org/doc/scipy/reference/generated/scipy.spatial.distance.squareform.html#scipy.spatial.distance.squareform).  You can also use `squareform` to go back to the condensed form."
   ]
  },
  {
   "cell_type": "code",
   "execution_count": 63,
   "metadata": {},
   "outputs": [
    {
     "data": {
      "text/plain": [
       "(100, 100)"
      ]
     },
     "execution_count": 63,
     "metadata": {},
     "output_type": "execute_result"
    }
   ],
   "source": [
    "from scipy.spatial.distance import squareform\n",
    "\n",
    "D = squareform(D)\n",
    "D.shape"
   ]
  },
  {
   "cell_type": "code",
   "execution_count": 65,
   "metadata": {},
   "outputs": [
    {
     "data": {
      "text/plain": [
       "(4950,)"
      ]
     },
     "execution_count": 65,
     "metadata": {},
     "output_type": "execute_result"
    }
   ],
   "source": [
    "squareform(D).shape"
   ]
  },
  {
   "cell_type": "markdown",
   "metadata": {},
   "source": [
    "`pdist` takes in a keyword argument `metric`, which determines the distance computed"
   ]
  },
  {
   "cell_type": "code",
   "execution_count": 66,
   "metadata": {},
   "outputs": [
    {
     "data": {
      "text/plain": [
       "array([1.46313652, 1.61500484, 1.56823974, ..., 1.44797631, 1.38212094,\n",
       "       2.11060253])"
      ]
     },
     "execution_count": 66,
     "metadata": {},
     "output_type": "execute_result"
    }
   ],
   "source": [
    "pdist(X, metric='cityblock')"
   ]
  },
  {
   "cell_type": "markdown",
   "metadata": {},
   "source": [
    "Let's compare to our implementations"
   ]
  },
  {
   "cell_type": "code",
   "execution_count": 71,
   "metadata": {},
   "outputs": [
    {
     "name": "stdout",
     "output_type": "stream",
     "text": [
      "pairwise : 0.12224864959716797 sec.\n",
      "pairwise_euclidean : 0.00032401084899902344 sec.\n",
      "pairwise_euclidean_blas : 0.0003178119659423828 sec.\n",
      "pdist : 0.00021195411682128906 sec.\n"
     ]
    }
   ],
   "source": [
    "import time\n",
    "\n",
    "# generate data set\n",
    "n = 100\n",
    "d = 2\n",
    "\n",
    "X = np.random.randn(n, d)\n",
    "\n",
    "for d in (pairwise, pairwise_euclidean, pairwise_euclidean_blas, pdist):\n",
    "    t0 = time.time()\n",
    "    D = d(X)\n",
    "    t1 = time.time()\n",
    "    print(\"{} : {} sec.\".format(d.__name__, t1 - t0))"
   ]
  },
  {
   "cell_type": "markdown",
   "metadata": {},
   "source": [
    "If we form the squareform:"
   ]
  },
  {
   "cell_type": "code",
   "execution_count": 72,
   "metadata": {},
   "outputs": [
    {
     "name": "stdout",
     "output_type": "stream",
     "text": [
      "pairwise : 0.12708783149719238 sec.\n",
      "pairwise_euclidean : 0.0002868175506591797 sec.\n",
      "pairwise_euclidean_blas : 0.0002892017364501953 sec.\n",
      "sq_pdist : 0.00025343894958496094 sec.\n"
     ]
    }
   ],
   "source": [
    "import time\n",
    "\n",
    "# generate data set\n",
    "n = 100\n",
    "d = 2\n",
    "\n",
    "X = np.random.randn(n, d)\n",
    "\n",
    "def sq_pdist(X, **kwargs):\n",
    "    return squareform(pdist(X, **kwargs))\n",
    "\n",
    "for d in (pairwise, pairwise_euclidean, pairwise_euclidean_blas, sq_pdist):\n",
    "    t0 = time.time()\n",
    "    D = d(X)\n",
    "    t1 = time.time()\n",
    "    print(\"{} : {} sec.\".format(d.__name__, t1 - t0))"
   ]
  },
  {
   "cell_type": "markdown",
   "metadata": {},
   "source": [
    "### Exercise\n",
    "\n",
    "Use `pdist` to compute ’braycurtis’, ‘canberra’, ‘chebyshev’, ‘cityblock’, ‘correlation’, ‘cosine’, and ‘euclidean’, distances on a random `X`.  Are there noticeable differences in the time it takes to compute each distance?"
   ]
  },
  {
   "cell_type": "code",
   "execution_count": null,
   "metadata": {},
   "outputs": [],
   "source": [
    "## Your code here\n"
   ]
  }
 ],
 "metadata": {
  "kernelspec": {
   "display_name": "Python (pycourse)",
   "language": "python",
   "name": "pycourse"
  },
  "language_info": {
   "codemirror_mode": {
    "name": "ipython",
    "version": 3
   },
   "file_extension": ".py",
   "mimetype": "text/x-python",
   "name": "python",
   "nbconvert_exporter": "python",
   "pygments_lexer": "ipython3",
   "version": "3.8.3"
  }
 },
 "nbformat": 4,
 "nbformat_minor": 4
}
