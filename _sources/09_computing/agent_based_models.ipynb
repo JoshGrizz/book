{
 "cells": [
  {
   "cell_type": "markdown",
   "metadata": {},
   "source": [
    "# Agent Based Models\n",
    "\n",
    "An [agent-based model](https://en.wikipedia.org/wiki/Agent-based_model) is a way of modeling some sort of phenomenon using discrete \"agents\" which interact with other agents, sometimes in very complex ways.  In case this is too abstract, you can think of agents as simulated people, and you're trying to model how they interact with each other.\n",
    "\n",
    "## Example: Spreading an Idea\n",
    "\n",
    "Let's say someone has a new idea, and that it is a really good idea.  So good in fact that once someone hears this new idea they can't stop talking about it.  We can model a person, or agent as a Python class with a single attribute:"
   ]
  },
  {
   "cell_type": "code",
   "execution_count": 1,
   "metadata": {},
   "outputs": [
    {
     "name": "stdout",
     "output_type": "stream",
     "text": [
      "False\n",
      "True\n"
     ]
    }
   ],
   "source": [
    "class Person():\n",
    "    \"\"\"\n",
    "    An agent representing a person.\n",
    "    \n",
    "    By default, a person is not enlightened.  They can become enlightened using the englighten method.\n",
    "    \"\"\"\n",
    "    \n",
    "    def __init__(self):\n",
    "        self.enlightened = False # if enlightened = True, the person has heard idea\n",
    "\n",
    "        \n",
    "    def is_enlightened(self):\n",
    "        \"\"\"\n",
    "        returns true if the person has heard the idea\n",
    "        \"\"\"\n",
    "        return self.enlightened\n",
    "\n",
    "    \n",
    "    def enlighten(self):\n",
    "        \"\"\"\n",
    "        once the person\n",
    "        \"\"\"\n",
    "        self.enlightened = True\n",
    "        \n",
    "        \n",
    "a = Person()\n",
    "print(a.is_enlightened()) # the person is not enlightened by default\n",
    "a.enlighten() # the person becomes enlightened\n",
    "print(a.is_enlightened()) # the person is now enlightened"
   ]
  },
  {
   "cell_type": "markdown",
   "metadata": {},
   "source": [
    "Now, what we want to do is simulate how this idea spreads through a population.  Say that there are `N` people in the population, and each day each person talks to `k` random other people.  If someone talks to someone else who is enlightened, then the new person becomes enlightened with probability `p`.  We'll start with one enlightened person and keep track of how the idea spreads"
   ]
  },
  {
   "cell_type": "code",
   "execution_count": 2,
   "metadata": {},
   "outputs": [],
   "source": [
    "N = 1_000 # population size\n",
    "k = 5     # number of people each person talks to\n",
    "p = 0.1   # probability that someone is enlightened\n",
    "\n",
    "pop = [Person() for i in range(N)] # our population\n",
    "pop[0].enlighten()"
   ]
  },
  {
   "cell_type": "markdown",
   "metadata": {},
   "source": [
    "now let's write a function that will simulate all interactions in a day"
   ]
  },
  {
   "cell_type": "code",
   "execution_count": 3,
   "metadata": {},
   "outputs": [],
   "source": [
    "from numpy.random import randint, rand\n",
    "\n",
    "for i in range(N):\n",
    "    if pop[i].is_enlightened():\n",
    "        # person i enlightens all their contacts\n",
    "        contacts = randint(N, size=k)\n",
    "        for j in contacts:\n",
    "            if rand() < p:\n",
    "                pop[j].enlighten()\n",
    "        "
   ]
  },
  {
   "cell_type": "markdown",
   "metadata": {},
   "source": [
    "we want to count how many people are enlightened at the end of the day"
   ]
  },
  {
   "cell_type": "code",
   "execution_count": 4,
   "metadata": {},
   "outputs": [
    {
     "data": {
      "text/plain": [
       "1"
      ]
     },
     "execution_count": 4,
     "metadata": {},
     "output_type": "execute_result"
    }
   ],
   "source": [
    "def count_enlightened(pop):\n",
    "    return sum(p.is_enlightened() for p in pop)\n",
    "\n",
    "count_enlightened(pop)"
   ]
  },
  {
   "cell_type": "markdown",
   "metadata": {},
   "source": [
    "now let's see how the enlightened population changes over time"
   ]
  },
  {
   "cell_type": "code",
   "execution_count": 5,
   "metadata": {},
   "outputs": [],
   "source": [
    "T = 100 # number of days to simulate\n",
    "counts = [count_enlightened(pop)]\n",
    "for t in range(T):\n",
    "    # update the population\n",
    "    for i in range(N):\n",
    "        if pop[i].is_enlightened():\n",
    "            # person i enlightens all their contacts\n",
    "            contacts = randint(N, size=k)\n",
    "            for j in contacts:\n",
    "                if rand() < p:\n",
    "                    pop[j].enlighten()\n",
    "                    \n",
    "    # add to our counts\n",
    "    counts.append(count_enlightened(pop))"
   ]
  },
  {
   "cell_type": "code",
   "execution_count": 6,
   "metadata": {
    "scrolled": true
   },
   "outputs": [
    {
     "data": {
      "image/png": "[encoded data removed]",
      "text/plain": [
       "<Figure size 432x288 with 1 Axes>"
      ]
     },
     "metadata": {
      "needs_background": "light"
     },
     "output_type": "display_data"
    }
   ],
   "source": [
    "import matplotlib.pyplot as plt\n",
    "\n",
    "plt.plot(counts)\n",
    "plt.show()"
   ]
  },
  {
   "cell_type": "markdown",
   "metadata": {},
   "source": [
    "### Exercises\n",
    "\n",
    "1. How does changing `N`, `p` and `k` affect the simulation?\n",
    "2. How would you change the simulation model to say that there is a probablity `q` that an enlightened person will become un-enlightened every day?"
   ]
  },
  {
   "cell_type": "code",
   "execution_count": 7,
   "metadata": {},
   "outputs": [],
   "source": [
    "## Your code here\n"
   ]
  },
  {
   "cell_type": "markdown",
   "metadata": {},
   "source": [
    "## Phase Diagrams\n",
    "\n",
    "In our example, there are a couple of parameters we can tweak.  We'll focus on `p` and `k`. One question we might ask is how the outcome changes as we change these parameters.  We'll count the total number of people who are enlightened on day 20."
   ]
  },
  {
   "cell_type": "code",
   "execution_count": 8,
   "metadata": {},
   "outputs": [],
   "source": [
    "def run_simulation(p, k, N=1_000, T=20):\n",
    "    \"\"\"\n",
    "    return the number of people enlightened at time T\n",
    "    \"\"\"\n",
    "    \n",
    "    pop = [Person() for i in range(N)] # our population\n",
    "    pop[0].enlighten()\n",
    "    \n",
    "    for t in range(T):\n",
    "        # update the population\n",
    "        for i in range(N):\n",
    "            if pop[i].is_enlightened():\n",
    "                # person i enlightens all their contacts\n",
    "                contacts = randint(N, size=k)\n",
    "                for j in contacts:\n",
    "                    if rand() < p:\n",
    "                        pop[j].enlighten()\n",
    "                    \n",
    "    return count_enlightened(pop)"
   ]
  },
  {
   "cell_type": "code",
   "execution_count": 9,
   "metadata": {},
   "outputs": [
    {
     "data": {
      "text/plain": [
       "881"
      ]
     },
     "execution_count": 9,
     "metadata": {},
     "output_type": "execute_result"
    }
   ],
   "source": [
    "run_simulation(0.1, 5)"
   ]
  },
  {
   "cell_type": "markdown",
   "metadata": {},
   "source": [
    "Now, let's run simulations on a range of values for `k` and `p`"
   ]
  },
  {
   "cell_type": "code",
   "execution_count": 10,
   "metadata": {},
   "outputs": [],
   "source": [
    "import numpy as np\n",
    "\n",
    "ks = np.arange(1, 11, dtype=np.int64)\n",
    "ps = np.logspace(-2,0, 10)\n",
    "\n",
    "cts = np.zeros((len(ks), len(ps)))\n",
    "for i, k in enumerate(ks):\n",
    "    for j, p in enumerate(ps):\n",
    "        cts[i,j] = run_simulation(p, k)"
   ]
  },
  {
   "cell_type": "code",
   "execution_count": 11,
   "metadata": {},
   "outputs": [
    {
     "data": {
      "image/png": "[encoded data removed]",
      "text/plain": [
       "<Figure size 720x360 with 2 Axes>"
      ]
     },
     "metadata": {
      "needs_background": "light"
     },
     "output_type": "display_data"
    }
   ],
   "source": [
    "plt.figure(figsize=(10,5))\n",
    "plt.imshow(cts, extent=[np.min(ps), np.max(ps), np.max(ks), np.min(ks)])\n",
    "plt.colorbar()\n",
    "# plt.axis('square')\n",
    "plt.xscale('log')\n",
    "plt.xlabel('p')\n",
    "plt.ylabel('k')\n",
    "\n",
    "plt.show()"
   ]
  },
  {
   "cell_type": "markdown",
   "metadata": {},
   "source": [
    "from the above, we see that if `k` and `p` are large enough that the whole population is enlightened on day 20, and if they are too small then very few are enlightened.  There is a phase transition between the blue and yellow regions above, meaning the choice of parameters can cause abrupt changes in the measured behavior of the system"
   ]
  },
  {
   "cell_type": "markdown",
   "metadata": {},
   "source": [
    "## The Game of Life\n",
    "\n",
    "You don't necessarily need to use Python objects to encode everything about an agent-based model.  For instance, you might just use an array to store the state of objects in simple simulations, even when behavior is nonlinear.\n",
    "\n",
    "We'll take a look at [Conway's Game of Life](https://en.wikipedia.org/wiki/Conway%27s_Game_of_Life) implemented using a numpy array.  The game of life takes place on a `m` by `n` grid, and each element of the grid either contains life or it doesn't.  The cells are updated at each time step using the following rules:\n",
    "\n",
    "1. Any live cell with 0 or 1 live neighbors dies (under-population)\n",
    "2. Any live cell with 2 or 3 neighbors survives until the next time step (sustainable population)\n",
    "3. Any live cell with more than 3 live neighbors dies (overpopulation)\n",
    "4. Any dead cell with exactly 3 neighbors becomes alive (reproduction)\n",
    "\n",
    "Neighbors are either horizontally, vertically, or diagonally adjacent. We'll encode whether a cell is alive or dead using 1 and 0 respectively (or True/False)"
   ]
  },
  {
   "cell_type": "code",
   "execution_count": 12,
   "metadata": {},
   "outputs": [],
   "source": [
    "m = 100\n",
    "n = 100\n",
    "\n",
    "A = np.zeros((m,n), dtype=bool) # grid"
   ]
  },
  {
   "cell_type": "code",
   "execution_count": 13,
   "metadata": {},
   "outputs": [
    {
     "data": {
      "text/plain": [
       "array([[0, 0, 0, ..., 0, 0, 0],\n",
       "       [0, 0, 0, ..., 0, 0, 0],\n",
       "       [0, 0, 0, ..., 0, 0, 0],\n",
       "       ...,\n",
       "       [0, 0, 0, ..., 0, 0, 0],\n",
       "       [0, 0, 0, ..., 0, 0, 0],\n",
       "       [0, 0, 0, ..., 0, 0, 0]])"
      ]
     },
     "execution_count": 13,
     "metadata": {},
     "output_type": "execute_result"
    }
   ],
   "source": [
    "def neighbors(i, j, m, n):\n",
    "    inbrs = [-1, 0, 1]\n",
    "    if i == 0:\n",
    "        inbrs = [0, 1]\n",
    "    if i == m-1:\n",
    "        inbrs = [-1, 0]\n",
    "    jnbrs = [-1, 0, 1]\n",
    "    if j == 0:\n",
    "        jnbrs = [0, 1]\n",
    "    if j == n-1:\n",
    "        jnbrs = [-1, 0]\n",
    "        \n",
    "    for delta_i in inbrs:\n",
    "        for delta_j in jnbrs:\n",
    "            if delta_i == delta_j == 0:\n",
    "                continue\n",
    "            yield i + delta_i, j + delta_j\n",
    "\n",
    "def count_alive_neighbors(A):\n",
    "    m, n = A.shape\n",
    "    cts = np.zeros(A.shape, dtype=np.int64)\n",
    "    for i in range(m):\n",
    "        for j in range(n):\n",
    "            for i2, j2 in neighbors(i, j, m, n):\n",
    "                cts[i,j] = cts[i,j] + A[i2, j2]\n",
    "                \n",
    "    return cts\n",
    "\n",
    "count_alive_neighbors(A)"
   ]
  },
  {
   "cell_type": "markdown",
   "metadata": {},
   "source": [
    "What makes the game of life interesting is that you can get patterns that propagate over your grid"
   ]
  },
  {
   "cell_type": "code",
   "execution_count": 14,
   "metadata": {},
   "outputs": [
    {
     "data": {
      "image/png": "[encoded data removed]",
      "text/plain": [
       "<Figure size 720x720 with 1 Axes>"
      ]
     },
     "metadata": {
      "needs_background": "light"
     },
     "output_type": "display_data"
    }
   ],
   "source": [
    "m, n = 50, 50\n",
    "np.random.seed(0)\n",
    "A = np.random.rand(m, n) < 0.3\n",
    "plt.figure(figsize=(10,10))\n",
    "plt.imshow(A)\n",
    "plt.show()"
   ]
  },
  {
   "cell_type": "markdown",
   "metadata": {},
   "source": [
    "The below cell produces an animated GIF of the game of life.  See [here](https://matplotlib.org/2.1.2/gallery/animation/dynamic_image.html) for an example from matplotlib."
   ]
  },
  {
   "cell_type": "code",
   "execution_count": 15,
   "metadata": {},
   "outputs": [
    {
     "data": {
      "text/plain": [
       "''"
      ]
     },
     "execution_count": 15,
     "metadata": {},
     "output_type": "execute_result"
    },
    {
     "data": {
      "image/png": "[encoded data removed]",
      "text/plain": [
       "<Figure size 360x360 with 1 Axes>"
      ]
     },
     "metadata": {
      "needs_background": "light"
     },
     "output_type": "display_data"
    }
   ],
   "source": [
    "from matplotlib.animation import FuncAnimation\n",
    "\n",
    "fig = plt.figure(figsize=(5,5))\n",
    "fig.set_tight_layout(True)\n",
    "\n",
    "# Plot an image that persists\n",
    "im = plt.imshow(A, animated=True)\n",
    "plt.axis('off') # turn off ticks\n",
    "\n",
    "def update(*args):\n",
    "\n",
    "    global A\n",
    "    \n",
    "    # Update image to display next step\n",
    "    cts = count_alive_neighbors(A)\n",
    "    # Game of life update\n",
    "    A = np.logical_or(\n",
    "        np.logical_and(cts == 2, A),\n",
    "        cts == 3\n",
    "    )\n",
    "    im.set_array(A)\n",
    "    return im,\n",
    "\n",
    "anim = FuncAnimation(fig, update, frames=100, interval=200, blit=True)\n",
    "anim.save('life.gif', dpi=80, writer='imagemagick')\n",
    ";"
   ]
  },
  {
   "cell_type": "markdown",
   "metadata": {},
   "source": [
    "Here's what the GIF looks like:\n",
    "\n",
    "![](life.gif)"
   ]
  },
  {
   "cell_type": "code",
   "execution_count": null,
   "metadata": {},
   "outputs": [],
   "source": []
  }
 ],
 "metadata": {
  "kernelspec": {
   "display_name": "Python (pycourse)",
   "language": "python",
   "name": "pycourse"
  },
  "language_info": {
   "codemirror_mode": {
    "name": "ipython",
    "version": 3
   },
   "file_extension": ".py",
   "mimetype": "text/x-python",
   "name": "python",
   "nbconvert_exporter": "python",
   "pygments_lexer": "ipython3",
   "version": "3.8.3"
  }
 },
 "nbformat": 4,
 "nbformat_minor": 4
}
